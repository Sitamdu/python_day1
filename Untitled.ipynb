{
 "cells": [
  {
   "cell_type": "code",
   "execution_count": 1,
   "id": "64b3f68b",
   "metadata": {},
   "outputs": [],
   "source": [
    "a = 20\n",
    "b = 10.5\n",
    "c = \"hello world\"\n",
    "d = True"
   ]
  },
  {
   "cell_type": "code",
   "execution_count": 2,
   "id": "1f91585e",
   "metadata": {},
   "outputs": [
    {
     "name": "stdout",
     "output_type": "stream",
     "text": [
      "20\n",
      "10.5\n",
      "hello world\n",
      "True\n"
     ]
    }
   ],
   "source": [
    "print(a)\n",
    "print(b)\n",
    "print(c)\n",
    "print(d)"
   ]
  },
  {
   "cell_type": "code",
   "execution_count": 4,
   "id": "22aa695c",
   "metadata": {},
   "outputs": [
    {
     "name": "stdout",
     "output_type": "stream",
     "text": [
      "<class 'int'>\n",
      "<class 'float'>\n",
      "<class 'str'>\n",
      "<class 'bool'>\n"
     ]
    }
   ],
   "source": [
    "print(type(a))\n",
    "print(type(b))\n",
    "print(type(c))\n",
    "print(type(d))"
   ]
  },
  {
   "cell_type": "code",
   "execution_count": 1,
   "id": "94ae5038",
   "metadata": {},
   "outputs": [
    {
     "name": "stdout",
     "output_type": "stream",
     "text": [
      "value: 10\n",
      "value: 20\n",
      "30\n"
     ]
    }
   ],
   "source": [
    "a = int(input(\"value: \"))\n",
    "b = int(input(\"value: \"))\n",
    "print(a+b)"
   ]
  },
  {
   "cell_type": "code",
   "execution_count": 1,
   "id": "46a72c78",
   "metadata": {},
   "outputs": [
    {
     "name": "stdout",
     "output_type": "stream",
     "text": [
      "enter time: 5\n",
      "enter principle: 10000\n",
      "enter a rate: 10\n",
      "the value of d =  5000.0\n"
     ]
    }
   ],
   "source": [
    "a = int(input(\"enter time: \"))\n",
    "b = float(input(\"enter principle: \"))\n",
    "c = float(input(\"enter a rate: \"))\n",
    "d = (a*b*c)/100\n",
    "print(\"the value of d = \",d)"
   ]
  },
  {
   "cell_type": "code",
   "execution_count": 2,
   "id": "ed73e0b3",
   "metadata": {},
   "outputs": [
    {
     "name": "stdout",
     "output_type": "stream",
     "text": [
      "enter height: 24.45\n",
      "enter base: 35.33\n",
      "area of triangle =  432\n"
     ]
    }
   ],
   "source": [
    "h = float(input(\"enter height: \"))\n",
    "b = float(input(\"enter base: \"))\n",
    "A = round(1/2*b*h)\n",
    "print(\"area of triangle = \", A)"
   ]
  },
  {
   "cell_type": "code",
   "execution_count": 7,
   "id": "69177182",
   "metadata": {},
   "outputs": [
    {
     "name": "stdout",
     "output_type": "stream",
     "text": [
      "enter weather: sunny\n",
      "its hot\n"
     ]
    }
   ],
   "source": [
    "a = input(\"enter weather: \").lower()\n",
    "if a == \"sunny\":\n",
    "    print(\"its hot\")\n",
    "elif a == \"winter\":\n",
    "    print(\"its cold\")\n",
    "else:\n",
    "    print(\"it moderate\")"
   ]
  },
  {
   "cell_type": "code",
   "execution_count": 8,
   "id": "34bf4b23",
   "metadata": {},
   "outputs": [
    {
     "name": "stdout",
     "output_type": "stream",
     "text": [
      "enter a number: 20\n",
      "its a even number!\n"
     ]
    }
   ],
   "source": [
    "number = int(input(\"enter a number: \"))\n",
    "if number % 2 == 0:\n",
    "    print(\"its a even number!\")\n",
    "else:\n",
    "    print(\"its a odd number!\")"
   ]
  },
  {
   "cell_type": "code",
   "execution_count": 3,
   "id": "b5263810",
   "metadata": {},
   "outputs": [
    {
     "name": "stdout",
     "output_type": "stream",
     "text": [
      "enter a first number: 40\n",
      "enter a second number: 50\n",
      "enter a third number: 60\n",
      "the largest number is:  60\n"
     ]
    }
   ],
   "source": [
    "first = int(input(\"enter a first number: \"))\n",
    "second = int(input(\"enter a second number: \"))\n",
    "third = int(input(\"enter a third number: \"))\n",
    "if first > second and first > third:\n",
    "    num = first\n",
    "    #print(first, \"is greatest number\")\n",
    "elif second > first and second > third:\n",
    "    #print(second, \"is greatest number\")\n",
    "    num = second\n",
    "else:\n",
    "    num = third\n",
    "    #print(third, \"is greatest number\")\n",
    "print(\"the largest number is: \", num)"
   ]
  },
  {
   "cell_type": "code",
   "execution_count": 1,
   "id": "bb3458c4",
   "metadata": {},
   "outputs": [
    {
     "name": "stdout",
     "output_type": "stream",
     "text": [
      "enter n = 6\n",
      "its even\n"
     ]
    }
   ],
   "source": [
    "n = int(input(\"enter n = \"))\n",
    "if n % 2==0:\n",
    "    print(\"its even\")\n",
    "else:\n",
    "    print(\"its odd\")"
   ]
  },
  {
   "cell_type": "code",
   "execution_count": null,
   "id": "6028748f",
   "metadata": {},
   "outputs": [],
   "source": [
    "a = int(input(\"enter a = \"))\n",
    "b = int(input(\"enter b = \"))\n",
    "o = input(\"enter o = \")\n",
    "if o == '+':\n",
    "    print(a+b)\n",
    "elif o == '-':\n",
    "    print(a-b)\n",
    "elif o == '*':\n",
    "    print(a*b)\n",
    "elif o == '/':\n",
    "    if b!= 0:\n",
    "        print(a/b)\n",
    "    else:\n",
    "        print(\"input valid no.\")\n",
    "else:\n",
    "    print(\"enter valid operator.\")"
   ]
  },
  {
   "cell_type": "code",
   "execution_count": 3,
   "id": "0bc46ae8",
   "metadata": {},
   "outputs": [
    {
     "name": "stdout",
     "output_type": "stream",
     "text": [
      "Enter 0 for rock, 1 for Paper and 2 for Scissors.\n",
      "0\n",
      "computer chose: \n",
      "Scissors\n",
      "you won\n"
     ]
    }
   ],
   "source": [
    "import random\n",
    "user_choice = int(input(\"Enter 0 for rock, 1 for Paper and 2 for Scissors.\\n\"))\n",
    "if user_choice >=3 or user_choice < 0:\n",
    "    print(input(\"Enter corrct number\\n\"))    \n",
    "\n",
    "choice = [\"Rock\",\"Paper\",\"Scissors\"]\n",
    "computer_choice = random.randint(0,2)\n",
    "print(\"computer chose: \")\n",
    "print(choice[computer_choice])\n",
    "\n",
    "\n",
    "if user_choice == 0 and computer_choice == 2:\n",
    "    print(\"you won\")\n",
    "elif computer_choice == 0 and user_choice == 2:\n",
    "    print(\"you lose\")\n",
    "elif computer_choice == user_choice:\n",
    "    print(\"draw\")\n",
    "elif computer_choice > user_choice:\n",
    "    print(\"you lose\")\n",
    "elif user_choice > computer_choice:\n",
    "    print(\"you win\")"
   ]
  },
  {
   "cell_type": "code",
   "execution_count": null,
   "id": "ad192518",
   "metadata": {},
   "outputs": [],
   "source": []
  }
 ],
 "metadata": {
  "kernelspec": {
   "display_name": "Python 3 (ipykernel)",
   "language": "python",
   "name": "python3"
  },
  "language_info": {
   "codemirror_mode": {
    "name": "ipython",
    "version": 3
   },
   "file_extension": ".py",
   "mimetype": "text/x-python",
   "name": "python",
   "nbconvert_exporter": "python",
   "pygments_lexer": "ipython3",
   "version": "3.9.13"
  }
 },
 "nbformat": 4,
 "nbformat_minor": 5
}
